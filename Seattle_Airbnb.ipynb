{
 "cells": [
  {
   "cell_type": "markdown",
   "id": "c076d0bc-8b8c-4909-8774-41ba31a3e3aa",
   "metadata": {},
   "source": [
    "# Section 1: Business Understanding"
   ]
  },
  {
   "cell_type": "markdown",
   "id": "0558b38d-38a4-4fd2-94f6-144f00ced6dc",
   "metadata": {},
   "source": [
    "AirBnb dataset is really interesting and I think we can try to understand how the data is changing throughout the year.\n",
    "\n",
    "Specific business questions:\n",
    "1. How does the average price change across the year?\n",
    "2. Whats the hardest time to get a reservation?\n",
    "3. How do the consumers choose to rate their property, is there specific reasons for getting a high score?\n",
    "4. How do price and score affect each other?"
   ]
  },
  {
   "cell_type": "markdown",
   "id": "2b555122-5983-49b0-980e-78fd62ee5cb1",
   "metadata": {},
   "source": [
    "# Section 2: Data Understanding"
   ]
  },
  {
   "cell_type": "code",
   "execution_count": 9,
   "id": "2dc5883d-dcfa-4ae1-b8fa-57a4b72728ee",
   "metadata": {},
   "outputs": [],
   "source": [
    "# import libraries\n",
    "\n",
    "import pandas as pd\n",
    "import numpy as np\n",
    "import matplotlib.pyplot as plt\n",
    "from datetime import datetime as dt\n",
    "import seaborn as sns\n",
    "from datetime import datetime"
   ]
  },
  {
   "cell_type": "code",
   "execution_count": 10,
   "id": "979c5bfd-eb36-4c25-baa7-a564074f9c1d",
   "metadata": {},
   "outputs": [],
   "source": [
    "'''\n",
    "This section loads the 3 DF's and takes only 2016 data\n",
    "'''\n",
    "\n",
    "df_calendar = pd.read_csv('raw_data/calendar.csv')\n",
    "df_listings = pd.read_csv('raw_data/listings.csv')\n",
    "df_reviews = pd.read_csv('raw_data/reviews.csv')\n",
    "\n",
    "# want to use 2016 data\n",
    "df_calendar = df_calendar[df_calendar['date']<'2017-01-01']\n",
    "df_reviews = df_reviews[df_reviews['date']<'2017-01-01']"
   ]
  },
  {
   "cell_type": "code",
   "execution_count": 11,
   "id": "5238214b-e6e4-4cf1-9d14-bc8b6f34c75b",
   "metadata": {},
   "outputs": [
    {
     "data": {
      "text/html": [
       "<div>\n",
       "<style scoped>\n",
       "    .dataframe tbody tr th:only-of-type {\n",
       "        vertical-align: middle;\n",
       "    }\n",
       "\n",
       "    .dataframe tbody tr th {\n",
       "        vertical-align: top;\n",
       "    }\n",
       "\n",
       "    .dataframe thead th {\n",
       "        text-align: right;\n",
       "    }\n",
       "</style>\n",
       "<table border=\"1\" class=\"dataframe\">\n",
       "  <thead>\n",
       "    <tr style=\"text-align: right;\">\n",
       "      <th></th>\n",
       "      <th>listing_id</th>\n",
       "      <th>date</th>\n",
       "      <th>available</th>\n",
       "      <th>price</th>\n",
       "    </tr>\n",
       "  </thead>\n",
       "  <tbody>\n",
       "  </tbody>\n",
       "</table>\n",
       "</div>"
      ],
      "text/plain": [
       "Empty DataFrame\n",
       "Columns: [listing_id, date, available, price]\n",
       "Index: []"
      ]
     },
     "execution_count": 11,
     "metadata": {},
     "output_type": "execute_result"
    }
   ],
   "source": [
    "# check we dont have 2017 data\n",
    "df_calendar[df_calendar['date']>='2017-01']"
   ]
  },
  {
   "cell_type": "markdown",
   "id": "bb3758d6-93e3-43de-8344-50bb9f5b47c8",
   "metadata": {},
   "source": [
    "Great! its clean for 2017, we can anlyze 2016"
   ]
  },
  {
   "cell_type": "code",
   "execution_count": 14,
   "id": "8fd0d205-3a16-40a6-8129-d178d25ebced",
   "metadata": {},
   "outputs": [
    {
     "data": {
      "text/html": [
       "<div>\n",
       "<style scoped>\n",
       "    .dataframe tbody tr th:only-of-type {\n",
       "        vertical-align: middle;\n",
       "    }\n",
       "\n",
       "    .dataframe tbody tr th {\n",
       "        vertical-align: top;\n",
       "    }\n",
       "\n",
       "    .dataframe thead th {\n",
       "        text-align: right;\n",
       "    }\n",
       "</style>\n",
       "<table border=\"1\" class=\"dataframe\">\n",
       "  <thead>\n",
       "    <tr style=\"text-align: right;\">\n",
       "      <th></th>\n",
       "      <th>listing_id</th>\n",
       "      <th>date</th>\n",
       "      <th>available</th>\n",
       "      <th>price</th>\n",
       "    </tr>\n",
       "  </thead>\n",
       "  <tbody>\n",
       "    <tr>\n",
       "      <th>0</th>\n",
       "      <td>241032</td>\n",
       "      <td>2016-01-04</td>\n",
       "      <td>t</td>\n",
       "      <td>$85.00</td>\n",
       "    </tr>\n",
       "    <tr>\n",
       "      <th>1</th>\n",
       "      <td>241032</td>\n",
       "      <td>2016-01-05</td>\n",
       "      <td>t</td>\n",
       "      <td>$85.00</td>\n",
       "    </tr>\n",
       "    <tr>\n",
       "      <th>2</th>\n",
       "      <td>241032</td>\n",
       "      <td>2016-01-06</td>\n",
       "      <td>f</td>\n",
       "      <td>NaN</td>\n",
       "    </tr>\n",
       "  </tbody>\n",
       "</table>\n",
       "</div>"
      ],
      "text/plain": [
       "   listing_id        date available   price\n",
       "0      241032  2016-01-04         t  $85.00\n",
       "1      241032  2016-01-05         t  $85.00\n",
       "2      241032  2016-01-06         f     NaN"
      ]
     },
     "execution_count": 14,
     "metadata": {},
     "output_type": "execute_result"
    }
   ],
   "source": [
    "# print the head to see the raw data\n",
    "df_calendar[0:3]"
   ]
  },
  {
   "cell_type": "markdown",
   "id": "2d664cfc-f597-41ca-8c93-3266058a4e81",
   "metadata": {},
   "source": [
    "Looks like we have 5 columns, month of listing, id, price (its a string, will have to clean), and if its available.\n",
    "Lets see what values are inside \"available\"."
   ]
  },
  {
   "cell_type": "code",
   "execution_count": 15,
   "id": "3382b817-e694-4258-b94a-a168a54fab8e",
   "metadata": {},
   "outputs": [
    {
     "data": {
      "text/plain": [
       "array(['t', 'f'], dtype=object)"
      ]
     },
     "execution_count": 15,
     "metadata": {},
     "output_type": "execute_result"
    }
   ],
   "source": [
    "df_calendar['available'].unique()"
   ]
  },
  {
   "cell_type": "markdown",
   "id": "71538a2d-e21d-469a-b1b2-943439e5d4b7",
   "metadata": {},
   "source": [
    "Cool its only true or false."
   ]
  },
  {
   "cell_type": "code",
   "execution_count": 21,
   "id": "577dedb7-f6f4-4639-987e-cf5c7c452b6f",
   "metadata": {},
   "outputs": [
    {
     "data": {
      "text/plain": [
       "0.3298064698607582"
      ]
     },
     "execution_count": 21,
     "metadata": {},
     "output_type": "execute_result"
    }
   ],
   "source": [
    "df_calendar['price'].isna().mean()"
   ]
  },
  {
   "cell_type": "code",
   "execution_count": 26,
   "id": "5dce269a-165f-4479-b712-e7044864a034",
   "metadata": {},
   "outputs": [
    {
     "name": "stdout",
     "output_type": "stream",
     "text": [
      "Perentage of priced listing: 0.6701935301392419%\n"
     ]
    }
   ],
   "source": [
    "print('Perentage of priced listing: {}%'.format(1-df_calendar['price'].isna().mean()))"
   ]
  },
  {
   "cell_type": "markdown",
   "id": "fbc9b941-82a8-4b6a-a06b-c0aec7a17f09",
   "metadata": {},
   "source": [
    "OK so we only have 67% of the values price, because the rest are rented."
   ]
  },
  {
   "cell_type": "code",
   "execution_count": 296,
   "id": "efd6c023-b903-49ae-937f-8acb4a6827f5",
   "metadata": {},
   "outputs": [
    {
     "data": {
      "image/png": "[encoded data removed]",
      "text/plain": [
       "<Figure size 432x288 with 1 Axes>"
      ]
     },
     "metadata": {
      "needs_background": "light"
     },
     "output_type": "display_data"
    }
   ],
   "source": [
    "# Lets see the data across the year, looks like evenly distabuted!\n",
    "plt.hist(pd.to_datetime(df_calendar['date']), bins=100)\n",
    "plt.show()"
   ]
  },
  {
   "cell_type": "markdown",
   "id": "ff330ee3-e6b6-428d-9ff6-f774fc9cad58",
   "metadata": {},
   "source": [
    "# Section 3: Data Preparation"
   ]
  },
  {
   "cell_type": "markdown",
   "id": "79c49107-d128-4bfd-9c99-1d4d717f5210",
   "metadata": {},
   "source": [
    "In the last section I saw that the price is string with $ so lets clean it!"
   ]
  },
  {
   "cell_type": "code",
   "execution_count": 31,
   "id": "1af41ca8-c2e4-4479-b9a6-5852823760a3",
   "metadata": {
    "tags": []
   },
   "outputs": [
    {
     "name": "stderr",
     "output_type": "stream",
     "text": [
      "<ipython-input-31-9323f187790a>:3: SettingWithCopyWarning: \n",
      "A value is trying to be set on a copy of a slice from a DataFrame.\n",
      "Try using .loc[row_indexer,col_indexer] = value instead\n",
      "\n",
      "See the caveats in the documentation: https://pandas.pydata.org/pandas-docs/stable/user_guide/indexing.html#returning-a-view-versus-a-copy\n",
      "  priced_df_calendar['price'] = priced_df_calendar['price'].str.replace('$','',regex=False).str.replace(',','',regex=False).astype('float')\n"
     ]
    }
   ],
   "source": [
    "# Creating only priced listing df\n",
    "priced_df_calendar = df_calendar[~df_calendar['price'].isna()]\n",
    "priced_df_calendar['price'] = priced_df_calendar['price'].str.replace('$','',regex=False).str.replace(',','',regex=False).astype('float')"
   ]
  },
  {
   "cell_type": "markdown",
   "id": "0310ca2a-5ec9-4faa-a062-9b0b8f24c556",
   "metadata": {},
   "source": [
    "### The reason I decided to use only data points with price is because I want to analyze the average price for free rooms, not for ones that are full and have no price."
   ]
  },
  {
   "cell_type": "code",
   "execution_count": 32,
   "id": "5d23b853-bcf6-4e04-a279-0faaa58f42f2",
   "metadata": {},
   "outputs": [
    {
     "data": {
      "text/plain": [
       "numpy.float64"
      ]
     },
     "execution_count": 32,
     "metadata": {},
     "output_type": "execute_result"
    }
   ],
   "source": [
    "type(priced_df_calendar['price'].sum())\n",
    "# its a float, looks good!"
   ]
  },
  {
   "cell_type": "code",
   "execution_count": 33,
   "id": "8cdcdbf3-bb35-451d-9741-8341a518423e",
   "metadata": {},
   "outputs": [
    {
     "name": "stderr",
     "output_type": "stream",
     "text": [
      "<ipython-input-33-1f10ee5e1785>:2: FutureWarning: The default value of regex will change from True to False in a future version. In addition, single character regular expressions will*not* be treated as literal strings when regex=True.\n",
      "  df_listings['price'] = df_listings['price'].str.replace('$','').str.replace(',','').astype('float')\n"
     ]
    }
   ],
   "source": [
    "# removing $ sign from price so we can calculate mean/max/etc prices later\n",
    "df_listings['price'] = df_listings['price'].str.replace('$','').str.replace(',','').astype('float')"
   ]
  },
  {
   "cell_type": "code",
   "execution_count": 34,
   "id": "3fef0841-5d93-4a0a-a7fc-f35fdf81ac8d",
   "metadata": {},
   "outputs": [
    {
     "data": {
      "text/plain": [
       "numpy.float64"
      ]
     },
     "execution_count": 34,
     "metadata": {},
     "output_type": "execute_result"
    }
   ],
   "source": [
    "type(df_listings['price'].sum())\n",
    "# its a float, looks good!"
   ]
  },
  {
   "cell_type": "markdown",
   "id": "3972aaa1-9815-4d89-980c-695edec78eb0",
   "metadata": {},
   "source": [
    "I want to create a month column for the graphs."
   ]
  },
  {
   "cell_type": "code",
   "execution_count": 36,
   "id": "e0044e08-dc09-48f6-b2c0-8d28d7ca93b9",
   "metadata": {},
   "outputs": [],
   "source": [
    "# Change date type and create month filed\n",
    "df_reviews['date'] = pd.to_datetime(df_reviews['date'])\n",
    "df_reviews['month'] = df_reviews['date'].dt.to_period('M')"
   ]
  },
  {
   "cell_type": "code",
   "execution_count": 38,
   "id": "0ef86ab7-69bf-4047-8b4d-83f213f56119",
   "metadata": {},
   "outputs": [
    {
     "data": {
      "text/html": [
       "<div>\n",
       "<style scoped>\n",
       "    .dataframe tbody tr th:only-of-type {\n",
       "        vertical-align: middle;\n",
       "    }\n",
       "\n",
       "    .dataframe tbody tr th {\n",
       "        vertical-align: top;\n",
       "    }\n",
       "\n",
       "    .dataframe thead th {\n",
       "        text-align: right;\n",
       "    }\n",
       "</style>\n",
       "<table border=\"1\" class=\"dataframe\">\n",
       "  <thead>\n",
       "    <tr style=\"text-align: right;\">\n",
       "      <th></th>\n",
       "      <th>listing_id</th>\n",
       "      <th>id</th>\n",
       "      <th>date</th>\n",
       "      <th>reviewer_id</th>\n",
       "      <th>reviewer_name</th>\n",
       "      <th>comments</th>\n",
       "      <th>month</th>\n",
       "    </tr>\n",
       "  </thead>\n",
       "  <tbody>\n",
       "    <tr>\n",
       "      <th>0</th>\n",
       "      <td>7202016</td>\n",
       "      <td>38917982</td>\n",
       "      <td>2015-07-19</td>\n",
       "      <td>28943674</td>\n",
       "      <td>Bianca</td>\n",
       "      <td>Cute and cozy place. Perfect location to every...</td>\n",
       "      <td>2015-07</td>\n",
       "    </tr>\n",
       "  </tbody>\n",
       "</table>\n",
       "</div>"
      ],
      "text/plain": [
       "   listing_id        id       date  reviewer_id reviewer_name  \\\n",
       "0     7202016  38917982 2015-07-19     28943674        Bianca   \n",
       "\n",
       "                                            comments    month  \n",
       "0  Cute and cozy place. Perfect location to every...  2015-07  "
      ]
     },
     "execution_count": 38,
     "metadata": {},
     "output_type": "execute_result"
    }
   ],
   "source": [
    "df_reviews[0:1]"
   ]
  },
  {
   "cell_type": "markdown",
   "id": "3599a6ec-9f18-4167-bfc5-6a5bd45d6f35",
   "metadata": {},
   "source": [
    "Looks good!"
   ]
  },
  {
   "cell_type": "code",
   "execution_count": 39,
   "id": "14ee2970-fee2-4bb8-b681-9d59f4e95d7a",
   "metadata": {},
   "outputs": [
    {
     "name": "stderr",
     "output_type": "stream",
     "text": [
      "<ipython-input-39-d575b5222abe>:7: SettingWithCopyWarning: \n",
      "A value is trying to be set on a copy of a slice from a DataFrame.\n",
      "Try using .loc[row_indexer,col_indexer] = value instead\n",
      "\n",
      "See the caveats in the documentation: https://pandas.pydata.org/pandas-docs/stable/user_guide/indexing.html#returning-a-view-versus-a-copy\n",
      "  priced_df_calendar['price'] = priced_df_calendar['price'].str.replace('$','',regex=False).str.replace(',','',regex=False).astype('float')\n"
     ]
    }
   ],
   "source": [
    "# Change date type and create month filed\n",
    "df_calendar['date'] = pd.to_datetime(df_calendar['date'])\n",
    "df_calendar['month'] = df_calendar['date'].dt.to_period('M')\n",
    "\n",
    "# create a priced df, cleaning the $ sign\n",
    "priced_df_calendar = df_calendar[~df_calendar['price'].isna()]\n",
    "priced_df_calendar['price'] = priced_df_calendar['price'].str.replace('$','',regex=False).str.replace(',','',regex=False).astype('float')"
   ]
  },
  {
   "cell_type": "markdown",
   "id": "c76d2365-ab0e-424f-9a6b-6e9c0d77982e",
   "metadata": {},
   "source": [
    "Lets see if the string column is now a float"
   ]
  },
  {
   "cell_type": "code",
   "execution_count": 45,
   "id": "ad283651-0f0e-403f-9d24-d673cca9f5a1",
   "metadata": {},
   "outputs": [
    {
     "data": {
      "text/plain": [
       "numpy.float64"
      ]
     },
     "execution_count": 45,
     "metadata": {},
     "output_type": "execute_result"
    }
   ],
   "source": [
    "type(priced_df_calendar[priced_df_calendar['month']=='2016-01']['price'].sum())"
   ]
  },
  {
   "cell_type": "markdown",
   "id": "8a9d0cf5-9e78-4e01-b7ab-571c8b10625f",
   "metadata": {},
   "source": [
    "Looks good!"
   ]
  },
  {
   "cell_type": "code",
   "execution_count": 264,
   "id": "750185b9-851a-4b1b-8881-8478652526d7",
   "metadata": {},
   "outputs": [],
   "source": [
    "# Create a list of scoring colums for later analysis\n",
    "score_column = ['review_scores_rating','review_scores_cleanliness','review_scores_checkin','review_scores_communication','review_scores_location']"
   ]
  },
  {
   "cell_type": "code",
   "execution_count": 323,
   "id": "9f5b07ab-5cf2-4c4a-9180-bb157471f124",
   "metadata": {},
   "outputs": [
    {
     "data": {
      "text/html": [
       "<div>\n",
       "<style scoped>\n",
       "    .dataframe tbody tr th:only-of-type {\n",
       "        vertical-align: middle;\n",
       "    }\n",
       "\n",
       "    .dataframe tbody tr th {\n",
       "        vertical-align: top;\n",
       "    }\n",
       "\n",
       "    .dataframe thead th {\n",
       "        text-align: right;\n",
       "    }\n",
       "</style>\n",
       "<table border=\"1\" class=\"dataframe\">\n",
       "  <thead>\n",
       "    <tr style=\"text-align: right;\">\n",
       "      <th></th>\n",
       "      <th>review_scores_rating</th>\n",
       "      <th>review_scores_cleanliness</th>\n",
       "      <th>review_scores_checkin</th>\n",
       "      <th>review_scores_communication</th>\n",
       "      <th>review_scores_location</th>\n",
       "    </tr>\n",
       "  </thead>\n",
       "  <tbody>\n",
       "    <tr>\n",
       "      <th>0</th>\n",
       "      <td>95.0</td>\n",
       "      <td>10.0</td>\n",
       "      <td>10.0</td>\n",
       "      <td>10.0</td>\n",
       "      <td>9.0</td>\n",
       "    </tr>\n",
       "  </tbody>\n",
       "</table>\n",
       "</div>"
      ],
      "text/plain": [
       "   review_scores_rating  review_scores_cleanliness  review_scores_checkin  \\\n",
       "0                  95.0                       10.0                   10.0   \n",
       "\n",
       "   review_scores_communication  review_scores_location  \n",
       "0                         10.0                     9.0  "
      ]
     },
     "execution_count": 323,
     "metadata": {},
     "output_type": "execute_result"
    }
   ],
   "source": [
    "df_listings[score_column][0:1]\n",
    "# looks good!"
   ]
  },
  {
   "cell_type": "code",
   "execution_count": 46,
   "id": "839c633a-acd2-4620-b6c9-0c863e474a3a",
   "metadata": {},
   "outputs": [],
   "source": [
    "# merge the two dataframes, we will use it in a later stage to compare diffrent features that are in both data frames\n",
    "merged_calendar_listings = pd.merge(right=priced_df_calendar,left=df_listings, right_on='listing_id',left_on='id',how='right')"
   ]
  },
  {
   "cell_type": "code",
   "execution_count": 47,
   "id": "334dea11-fae7-44a1-a3f8-a147d9d06835",
   "metadata": {
    "tags": []
   },
   "outputs": [],
   "source": [
    "df_monthed = merged_calendar_listings.groupby(by=['month'], as_index=False).mean()[['month','review_scores_rating','price_y']]"
   ]
  },
  {
   "cell_type": "code",
   "execution_count": 48,
   "id": "75403c1d-098e-45af-a7e2-ef8526231959",
   "metadata": {},
   "outputs": [
    {
     "data": {
      "text/html": [
       "<div>\n",
       "<style scoped>\n",
       "    .dataframe tbody tr th:only-of-type {\n",
       "        vertical-align: middle;\n",
       "    }\n",
       "\n",
       "    .dataframe tbody tr th {\n",
       "        vertical-align: top;\n",
       "    }\n",
       "\n",
       "    .dataframe thead th {\n",
       "        text-align: right;\n",
       "    }\n",
       "</style>\n",
       "<table border=\"1\" class=\"dataframe\">\n",
       "  <thead>\n",
       "    <tr style=\"text-align: right;\">\n",
       "      <th></th>\n",
       "      <th>month</th>\n",
       "      <th>review_scores_rating</th>\n",
       "      <th>price_y</th>\n",
       "    </tr>\n",
       "  </thead>\n",
       "  <tbody>\n",
       "    <tr>\n",
       "      <th>0</th>\n",
       "      <td>2016-01</td>\n",
       "      <td>94.290268</td>\n",
       "      <td>121.568409</td>\n",
       "    </tr>\n",
       "    <tr>\n",
       "      <th>1</th>\n",
       "      <td>2016-02</td>\n",
       "      <td>94.377616</td>\n",
       "      <td>124.293927</td>\n",
       "    </tr>\n",
       "    <tr>\n",
       "      <th>2</th>\n",
       "      <td>2016-03</td>\n",
       "      <td>94.487285</td>\n",
       "      <td>128.644488</td>\n",
       "    </tr>\n",
       "    <tr>\n",
       "      <th>3</th>\n",
       "      <td>2016-04</td>\n",
       "      <td>94.478512</td>\n",
       "      <td>135.097005</td>\n",
       "    </tr>\n",
       "    <tr>\n",
       "      <th>4</th>\n",
       "      <td>2016-05</td>\n",
       "      <td>94.481624</td>\n",
       "      <td>139.538183</td>\n",
       "    </tr>\n",
       "    <tr>\n",
       "      <th>5</th>\n",
       "      <td>2016-06</td>\n",
       "      <td>94.417122</td>\n",
       "      <td>147.473137</td>\n",
       "    </tr>\n",
       "    <tr>\n",
       "      <th>6</th>\n",
       "      <td>2016-07</td>\n",
       "      <td>94.300753</td>\n",
       "      <td>152.094150</td>\n",
       "    </tr>\n",
       "    <tr>\n",
       "      <th>7</th>\n",
       "      <td>2016-08</td>\n",
       "      <td>94.362683</td>\n",
       "      <td>150.656594</td>\n",
       "    </tr>\n",
       "    <tr>\n",
       "      <th>8</th>\n",
       "      <td>2016-09</td>\n",
       "      <td>94.376173</td>\n",
       "      <td>143.255949</td>\n",
       "    </tr>\n",
       "    <tr>\n",
       "      <th>9</th>\n",
       "      <td>2016-10</td>\n",
       "      <td>94.392681</td>\n",
       "      <td>137.031939</td>\n",
       "    </tr>\n",
       "    <tr>\n",
       "      <th>10</th>\n",
       "      <td>2016-11</td>\n",
       "      <td>94.443237</td>\n",
       "      <td>135.688738</td>\n",
       "    </tr>\n",
       "    <tr>\n",
       "      <th>11</th>\n",
       "      <td>2016-12</td>\n",
       "      <td>94.499577</td>\n",
       "      <td>137.251835</td>\n",
       "    </tr>\n",
       "  </tbody>\n",
       "</table>\n",
       "</div>"
      ],
      "text/plain": [
       "      month  review_scores_rating     price_y\n",
       "0   2016-01             94.290268  121.568409\n",
       "1   2016-02             94.377616  124.293927\n",
       "2   2016-03             94.487285  128.644488\n",
       "3   2016-04             94.478512  135.097005\n",
       "4   2016-05             94.481624  139.538183\n",
       "5   2016-06             94.417122  147.473137\n",
       "6   2016-07             94.300753  152.094150\n",
       "7   2016-08             94.362683  150.656594\n",
       "8   2016-09             94.376173  143.255949\n",
       "9   2016-10             94.392681  137.031939\n",
       "10  2016-11             94.443237  135.688738\n",
       "11  2016-12             94.499577  137.251835"
      ]
     },
     "execution_count": 48,
     "metadata": {},
     "output_type": "execute_result"
    }
   ],
   "source": [
    "df_monthed"
   ]
  },
  {
   "cell_type": "markdown",
   "id": "5cbb2f93-d5aa-4621-ab8f-cc649a3ae31a",
   "metadata": {},
   "source": [
    "Looks good, we have a new df"
   ]
  },
  {
   "cell_type": "markdown",
   "id": "897a177c-706a-4717-af24-2f4f32a55abe",
   "metadata": {},
   "source": [
    "# Section 4: Evaluate the Results"
   ]
  },
  {
   "cell_type": "markdown",
   "id": "ae1e4262-65f1-4812-b926-db6effeb36b9",
   "metadata": {},
   "source": [
    "Let's use the score_column list in the prep section to see the correlation between the different features."
   ]
  },
  {
   "cell_type": "markdown",
   "id": "869ab89c-2a63-4517-8e28-8e49c0c8d5b6",
   "metadata": {},
   "source": [
    "First ill create a function for that."
   ]
  },
  {
   "cell_type": "code",
   "execution_count": 306,
   "id": "a1e3d320-dbf0-4944-9b80-781e5733f77d",
   "metadata": {},
   "outputs": [],
   "source": [
    "def corr_metrix(df,colum_names):\n",
    "    '''\n",
    "    This function will take a data frame, list of feature name and print its correlation matrix.\n",
    "    \n",
    "    Input:\n",
    "    Df (Pandas.Dataframe) - data frame that hold the colmus that will be checked for corralation\n",
    "    Colum_names (list) - list of colum names that will be printed\n",
    "    \n",
    "    Output:\n",
    "    Correlation matrix (AxesSubplot(0.125,0.125;0.62x0.755) - a printed correlation \n",
    "    matrix\n",
    "    '''\n",
    "    \n",
    "    \n",
    "    score_corr = df[colum_names].corr()\n",
    "    \n",
    "    print(sns.heatmap(score_corr, annot=True))\n",
    "    print('Correlation between different categories ranking')"
   ]
  },
  {
   "cell_type": "markdown",
   "id": "329ffbb1-87a1-4453-95b8-10da1c2b6392",
   "metadata": {},
   "source": [
    "### How do the consumers choose to rate their property, is there specific reasons for getting a high score?\n"
   ]
  },
  {
   "cell_type": "code",
   "execution_count": 307,
   "id": "2e9a6b73-d958-43f3-beee-8d8cf9c2a3bd",
   "metadata": {},
   "outputs": [
    {
     "name": "stdout",
     "output_type": "stream",
     "text": [
      "AxesSubplot(0.125,0.125;0.62x0.755)\n",
      "Correlation between different categories ranking\n"
     ]
    },
    {
     "data": {
      "image/png": "[encoded data removed]",
      "text/plain": [
       "<Figure size 432x288 with 2 Axes>"
      ]
     },
     "metadata": {
      "needs_background": "light"
     },
     "output_type": "display_data"
    }
   ],
   "source": [
    "corr_metrix(df_listings,score_column)"
   ]
  },
  {
   "cell_type": "markdown",
   "id": "8636b5b4-9706-4133-966d-564c2a98fbbb",
   "metadata": {},
   "source": [
    "AirBnB gives its users a few categories to rank there stay, when looking at the correlation between the different categories to the overall score we get an interesting insight:\n",
    "\n",
    "The most correlative categories is cleanliness, afterwards comes communications, checkin and last is location. That’s surprising! I would imagine location would be at top, a good explanation could be that location is known in advance while the other metrics are only discovered during the vacation."
   ]
  },
  {
   "cell_type": "markdown",
   "id": "fa15c9aa-b6c6-4c19-980b-7737b4ac96ff",
   "metadata": {},
   "source": [
    "### How does the average price change across the year?"
   ]
  },
  {
   "cell_type": "code",
   "execution_count": 57,
   "id": "a5688d70-5f55-4bad-857a-7075ea61ab80",
   "metadata": {},
   "outputs": [
    {
     "data": {
      "text/plain": [
       "<AxesSubplot:xlabel='month', ylabel='price_y'>"
      ]
     },
     "execution_count": 57,
     "metadata": {},
     "output_type": "execute_result"
    },
    {
     "data": {
      "image/png": "[encoded data removed]",
      "text/plain": [
       "<Figure size 936x288 with 1 Axes>"
      ]
     },
     "metadata": {
      "needs_background": "light"
     },
     "output_type": "display_data"
    }
   ],
   "source": [
    "# lets see if the score changes over the year, doesnt look like!\n",
    "plt.figure(figsize=(13, 4))\n",
    "sns.barplot(data=df_monthed,x='month', y='price_y')\n",
    "\n",
    "#print('Average price month')"
   ]
  },
  {
   "cell_type": "markdown",
   "id": "f9425340-bf3d-45d1-b984-ecd329d72a57",
   "metadata": {},
   "source": [
    "It is not too surprising to see that summer time is the most expensive time to visit, the average price picks to 140$, while the cheapest time is winter."
   ]
  },
  {
   "cell_type": "markdown",
   "id": "c0ad8478-b415-42c7-a2c5-9846b930f485",
   "metadata": {},
   "source": [
    "### How do price and score affect each other?"
   ]
  },
  {
   "cell_type": "code",
   "execution_count": 286,
   "id": "1a0c1c6d-7ce5-432b-9628-f5880baf5eed",
   "metadata": {},
   "outputs": [
    {
     "name": "stdout",
     "output_type": "stream",
     "text": [
      "Price and score scatter plot\n"
     ]
    },
    {
     "data": {
      "image/png": "[encoded data removed]",
      "text/plain": [
       "<Figure size 432x288 with 1 Axes>"
      ]
     },
     "metadata": {
      "needs_background": "light"
     },
     "output_type": "display_data"
    }
   ],
   "source": [
    "# Lets print the score vs price hist!\n",
    "df_listings[['price','review_scores_rating']].plot(kind='scatter', x='review_scores_rating',y='price')\n",
    "print('Price and score scatter plot')"
   ]
  },
  {
   "cell_type": "markdown",
   "id": "8a12fa27-5bf1-43a1-87b5-40d55af8c3b6",
   "metadata": {},
   "source": [
    "In the graph below, each data point represents a listing, the most expensive properties have high scores, but the majority of the 80–100 scores are priced below 400$. That can be explained by the fact that people’s score is mostly, “value for money”, meaning they will rank a property high even if it’s not the most luxurious, as long as they get what they expect."
   ]
  },
  {
   "cell_type": "markdown",
   "id": "5f0325c5-d852-4039-a6b2-bb10bb9f8e72",
   "metadata": {},
   "source": [
    "### Whats the hardest time to get a reservation?"
   ]
  },
  {
   "cell_type": "code",
   "execution_count": 50,
   "id": "ad18205f-bf91-4693-abf6-ab7f4f464622",
   "metadata": {},
   "outputs": [],
   "source": [
    "# Lets take a look at a stacked bar graph to see when rooms are free! \n",
    "# Creating pivot table to get us the data in the right order for the graph\n",
    "\n",
    "df_piv = df_calendar.groupby(by=['available','month'], as_index=False).count().pivot(columns='available',values='listing_id',index='month').reset_index()\n",
    "df_piv.columns = ['month','Fully_booked','Have_rooms']"
   ]
  },
  {
   "cell_type": "code",
   "execution_count": 51,
   "id": "2c76823b-12b2-4785-9b7f-49de80e2b99a",
   "metadata": {},
   "outputs": [
    {
     "name": "stdout",
     "output_type": "stream",
     "text": [
      "Amount of free units\n"
     ]
    },
    {
     "data": {
      "image/png": "[encoded data removed]",
      "text/plain": [
       "<Figure size 432x288 with 1 Axes>"
      ]
     },
     "metadata": {
      "needs_background": "light"
     },
     "output_type": "display_data"
    }
   ],
   "source": [
    "df_piv.plot(kind='bar', stacked=True, color=['skyblue','red'],x='month',y=['Have_rooms','Fully_booked'])\n",
    "print('Amount of free units')"
   ]
  },
  {
   "cell_type": "code",
   "execution_count": 52,
   "id": "4f147140-13f6-47b4-9097-c07c932a4ca0",
   "metadata": {},
   "outputs": [
    {
     "name": "stdout",
     "output_type": "stream",
     "text": [
      "Amount of un-rented units\n",
      "Fully booked rooms:\n"
     ]
    },
    {
     "data": {
      "image/png": "[encoded data removed]",
      "text/plain": [
       "<Figure size 432x288 with 1 Axes>"
      ]
     },
     "metadata": {
      "needs_background": "light"
     },
     "output_type": "display_data"
    }
   ],
   "source": [
    "# Lets take a look at the fully booked data\n",
    "print('Amount of un-rented units')\n",
    "df_piv.plot(kind='bar', stacked=True, color=['red'],x='month',y=['Fully_booked'])\n",
    "print('Fully booked rooms:')"
   ]
  },
  {
   "cell_type": "code",
   "execution_count": 53,
   "id": "b7d11109-0c05-4ccf-9684-06d7c969c6c6",
   "metadata": {},
   "outputs": [
    {
     "name": "stdout",
     "output_type": "stream",
     "text": [
      "Amount of un-rented units\n",
      "Booked rooms:\n"
     ]
    },
    {
     "data": {
      "image/png": "[encoded data removed]",
      "text/plain": [
       "<Figure size 432x288 with 1 Axes>"
      ]
     },
     "metadata": {
      "needs_background": "light"
     },
     "output_type": "display_data"
    }
   ],
   "source": [
    "print('Amount of un-rented units')\n",
    "df_piv.plot(kind='bar', stacked=True, color=['red'],x='month',y=['Have_rooms'])\n",
    "print('Booked rooms:')"
   ]
  },
  {
   "cell_type": "markdown",
   "id": "98d13fb5-1902-4496-a46a-467f67b857ca",
   "metadata": {},
   "source": [
    "January is in fact the time of year with the least amount of free rooms for rent. That is caused partly because some residences don’t offer rooms at that time (lowest bar) of the year, but surprisingly it’s also because January appears to be the time of year with the highest number of rooms booked, maybe because of the lower price range."
   ]
  },
  {
   "cell_type": "code",
   "execution_count": null,
   "id": "d21e0bb2-9670-4b09-9cf1-a00729267411",
   "metadata": {},
   "outputs": [],
   "source": []
  }
 ],
 "metadata": {
  "kernelspec": {
   "display_name": "Python 3",
   "language": "python",
   "name": "python3"
  },
  "language_info": {
   "codemirror_mode": {
    "name": "ipython",
    "version": 3
   },
   "file_extension": ".py",
   "mimetype": "text/x-python",
   "name": "python",
   "nbconvert_exporter": "python",
   "pygments_lexer": "ipython3",
   "version": "3.8.8"
  }
 },
 "nbformat": 4,
 "nbformat_minor": 5
}
